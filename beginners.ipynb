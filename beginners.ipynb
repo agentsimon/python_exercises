{
 "cells": [
  {
   "cell_type": "markdown",
   "metadata": {},
   "source": [
    "Convert radians into degrees: Write a function in Python that accepts one numeric parameter. This parameter will be the measure of an angle in radians. The function should convert the radians into degrees and then return that value."
   ]
  },
  {
   "cell_type": "code",
   "execution_count": 1,
   "metadata": {},
   "outputs": [],
   "source": [
    "\n",
    "import math\n",
    "\n",
    "\n",
    "\n",
    "def convert_to(rad):\n",
    "    rad = float(rad)\n",
    "    degress = (rad*180)/math.pi\n",
    "    print(rad, \" radians are \",  degress, \"degrees\")\n",
    "\n",
    "def isanumber(inp):\n",
    "    try:\n",
    "        val = int(inp)\n",
    "        convert_to(inp)\n",
    "        return True\n",
    "    except ValueError:\n",
    "        try:\n",
    "            val = float(inp)\n",
    "            convert_to(inp)\n",
    "            return True\n",
    "        except ValueError:\n",
    "            rad = input(\"Please input a number \")\n",
    "            isanumber(rad)\n",
    "            return False\n",
    "\n",
    "\n",
    "\n",
    "while True:\n",
    "    rad = input(\"Please input the radians as a number \")\n",
    "    isanumber(rad)\n",
    "    \n",
    "    print(\" Finish \")\n",
    "\n"
   ]
  },
  {
   "cell_type": "markdown",
   "metadata": {},
   "source": [
    "Morse code translator: Write a code in Python to create a Morse code translator. The string can also have any special characters as a part of the Morse code. The python code should return the Morse code that is equivalent to the string."
   ]
  },
  {
   "cell_type": "code",
   "execution_count": 7,
   "metadata": {},
   "outputs": [
    {
     "name": "stdout",
     "output_type": "stream",
     "text": [
      "SEND A POTATOE, PLEASE\n",
      "['...', '.', '-.', '-..', '.-', '.--.', '---', '-', '.-', '-', '---', '.', '--..--', '.--.', '.-..', '.', '.-', '...', '.']\n"
     ]
    }
   ],
   "source": [
    "morse = {\"A\":\".-\",\"B\":\".---\",\"C\":\"−·−·\",\"D\":\"-..\",\"E\":\".\",\"F\":\"..-.\",\"G\":\"--.\",\"H\":\"....\",\"I\":\"..\",\"J\":\".---\",\"K\":\"-.-\",\"L\":\".-..\",\"M\":\"---\",\"N\":\"-.\",\"O\":\"---\",\"P\":\".--.\",\"R\":\".-.\",\"S\":\"...\",\"T\":\"-\",\"U\":\"..-\",\"V\":\"...-\",\"W\":\".--\",\"X\":\"-..-\",\"Y\":\"-.--\",\"Z\":\"--..\",\"0\":\"-----\",\"1\":\".----\",\"2\":\"..---\",\"3\":\"...--\",\"4\":\"....-\",\"5\":\".....\",\"6\":\"-....\",\"7\":\"--...\",\"8\":\"---..\",\"9\":\"----.\",\".\":\".-.-.-.-\",\",\":\"--..--\",\"?\":\"..--..\",\"'\":\".----.\",\"!\":\"-.-.--\",\"/\":\"-..-.\",\"(\":\"-.--.\",\")\":\"-.--.-\",\"&\":\".-...\",\":\":\"---...\",\";\":\"-.-.-.\",\"=\":\"-...-\",\"+\":\".-.-.\",\"-\":\"-....-\",\"_\":\"..--.-\",\"'\":\".-..-.\",\"$\":\"...-..-\",\"@\":\".--.-.\"}\n",
    "\n",
    "message = input(\"Type your message : \")\n",
    "\n",
    "message_upper = message.upper()\n",
    "print(message_upper)\n",
    "morse_message = []\n",
    "for character in message_upper:\n",
    "    if character in morse:\n",
    "        morse_message.append(morse[character])\n",
    "\n",
    "print(morse_message)\n"
   ]
  },
  {
   "cell_type": "markdown",
   "metadata": {},
   "source": [
    "Duplicate letter checker: Create a function in Python that accepts one parameter: a string that’s a sentence. This function should return True if any word in that sentence contains duplicate letters and False if not."
   ]
  },
  {
   "cell_type": "markdown",
   "metadata": {},
   "source": [
    "Input and name as a string. Look at the words in the string for duplicates, each word is seperated by a space or a comma."
   ]
  },
  {
   "cell_type": "code",
   "execution_count": null,
   "metadata": {},
   "outputs": [],
   "source": [
    "sentance = input()\n",
    "words_in_sentance = sentance.split()\n",
    "\n",
    "\n",
    "for words in words_in_sentance:\n",
    "    "
   ]
  },
  {
   "cell_type": "markdown",
   "metadata": {},
   "source": [
    "Convert a decimal number into binary: Write a function in Python that accepts a decimal number and returns the equivalent binary number. The decimal number will always be less than 1,024, so the binary number returned will always be less than ten digits long."
   ]
  },
  {
   "cell_type": "markdown",
   "metadata": {},
   "source": [
    "Convert a decimal to a hex: Write a function in Python to convert a decimal to a hex. It must accept a string of ASCII characters as input. The function should return the value of each character as a hexadecimal string."
   ]
  },
  {
   "cell_type": "markdown",
   "metadata": {},
   "source": [
    "The IP address: Write a function to find the domain name from the IP address. The function will accept an IP address, and return the domain name that maps to that IP address while using records of PTR DNS."
   ]
  },
  {
   "cell_type": "markdown",
   "metadata": {},
   "source": [
    "Create a calculator function: Write a Python function that accepts three parameters. The 1st parameter is an integer. The 2nd mathematical operator. The 3rd also be an integer. The function should perform a calculation and return the results."
   ]
  },
  {
   "cell_type": "markdown",
   "metadata": {},
   "source": [
    "Hide the credit card number: Write a function in Python that accepts a credit card number. It should return a string where all the characters are hidden with an asterisk except the last four."
   ]
  },
  {
   "cell_type": "markdown",
   "metadata": {},
   "source": [
    "Tic Tac Toe blocker: In this Python challenge, write a function that’ll accept two numbers. These numbers will represent a position on a tic-tac-toe board. The function should return the number of the spot that can block these two spots from winning the game."
   ]
  },
  {
   "cell_type": "markdown",
   "metadata": {},
   "source": [
    "The discount: Create a function in Python that accepts two parameters. The first should be the full price of an item as an integer. The second should be the discount percentage as an integer. The function should return the price of the item after the discount has been applied."
   ]
  }
 ],
 "metadata": {
  "kernelspec": {
   "display_name": "Python 3.8.9 ('cv')",
   "language": "python",
   "name": "python3"
  },
  "language_info": {
   "codemirror_mode": {
    "name": "ipython",
    "version": 3
   },
   "file_extension": ".py",
   "mimetype": "text/x-python",
   "name": "python",
   "nbconvert_exporter": "python",
   "pygments_lexer": "ipython3",
   "version": "3.8.9"
  },
  "orig_nbformat": 4,
  "vscode": {
   "interpreter": {
    "hash": "8248eec2219729aa9a1743e7bd77fb7552984be5f4a9468e34ae9963dba347aa"
   }
  }
 },
 "nbformat": 4,
 "nbformat_minor": 2
}
